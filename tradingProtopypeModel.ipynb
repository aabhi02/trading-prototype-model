{
 "cells": [
  {
   "cell_type": "code",
   "execution_count": 3,
   "id": "7989f220",
   "metadata": {
    "execution": {
     "iopub.execute_input": "2023-07-03T02:29:23.083020Z",
     "iopub.status.busy": "2023-07-03T02:29:23.081568Z",
     "iopub.status.idle": "2023-07-03T02:29:33.538603Z",
     "shell.execute_reply": "2023-07-03T02:29:33.537662Z"
    },
    "papermill": {
     "duration": 10.481489,
     "end_time": "2023-07-03T02:29:33.541315",
     "exception": false,
     "start_time": "2023-07-03T02:29:23.059826",
     "status": "completed"
    },
    "tags": []
   },
   "outputs": [
    {
     "name": "stderr",
     "output_type": "stream",
     "text": [
      "2023-10-05 20:29:11.386161: I tensorflow/core/platform/cpu_feature_guard.cc:182] This TensorFlow binary is optimized to use available CPU instructions in performance-critical operations.\n",
      "To enable the following instructions: AVX2 FMA, in other operations, rebuild TensorFlow with the appropriate compiler flags.\n",
      "2023-10-05 20:29:12.182329: W tensorflow/compiler/tf2tensorrt/utils/py_utils.cc:38] TF-TRT Warning: Could not find TensorRT\n"
     ]
    }
   ],
   "source": [
    "# import package\n",
    "import pandas as pd\n",
    "import numpy as np\n",
    "import tensorflow as tf\n",
    "import yfinance as yf\n",
    "import textwrap\n",
    "import matplotlib.pyplot as plt\n",
    "import seaborn as sns\n",
    "%matplotlib inline\n",
    "\n",
    "import IPython.display\n",
    "from IPython.display import display, Markdown, clear_output\n",
    "\n",
    "import plotly.graph_objects as go\n",
    "from datetime import datetime"
   ]
  },
  {
   "cell_type": "code",
   "execution_count": 4,
   "id": "a64e7e46",
   "metadata": {
    "execution": {
     "iopub.execute_input": "2023-07-03T02:29:33.624491Z",
     "iopub.status.busy": "2023-07-03T02:29:33.623798Z",
     "iopub.status.idle": "2023-07-03T02:29:34.205146Z",
     "shell.execute_reply": "2023-07-03T02:29:34.204121Z"
    },
    "papermill": {
     "duration": 0.605328,
     "end_time": "2023-07-03T02:29:34.207527",
     "exception": false,
     "start_time": "2023-07-03T02:29:33.602199",
     "status": "completed"
    },
    "tags": []
   },
   "outputs": [],
   "source": [
    "ticker = yf.Ticker('BTC-USD')\n",
    "btc = ticker.history(period=\"max\")\n",
    "btc.head()\n",
    "\n",
    "timesteps = btc.index.to_numpy()\n",
    "prices = btc[\"Close\"].to_numpy()"
   ]
  },
  {
   "cell_type": "code",
   "execution_count": 5,
   "id": "14fa71ca",
   "metadata": {
    "execution": {
     "iopub.execute_input": "2023-07-03T02:29:34.294077Z",
     "iopub.status.busy": "2023-07-03T02:29:34.293561Z",
     "iopub.status.idle": "2023-07-03T02:29:34.301067Z",
     "shell.execute_reply": "2023-07-03T02:29:34.300200Z"
    },
    "papermill": {
     "duration": 0.031314,
     "end_time": "2023-07-03T02:29:34.303079",
     "exception": false,
     "start_time": "2023-07-03T02:29:34.271765",
     "status": "completed"
    },
    "tags": []
   },
   "outputs": [
    {
     "data": {
      "text/plain": [
       "(2644, 662, 2644, 662)"
      ]
     },
     "execution_count": 5,
     "metadata": {},
     "output_type": "execute_result"
    }
   ],
   "source": [
    "split_size = int(0.8 * len(prices))\n",
    "X_train, y_train = timesteps[:split_size], prices[:split_size]\n",
    "X_test, y_test = timesteps[split_size:], prices[split_size:]"
   ]
  },
  {
   "cell_type": "code",
   "execution_count": 7,
   "id": "4bc95b88",
   "metadata": {
    "execution": {
     "iopub.execute_input": "2023-07-03T02:29:35.138588Z",
     "iopub.status.busy": "2023-07-03T02:29:35.138071Z",
     "iopub.status.idle": "2023-07-03T02:29:35.143711Z",
     "shell.execute_reply": "2023-07-03T02:29:35.142741Z"
    },
    "papermill": {
     "duration": 0.030497,
     "end_time": "2023-07-03T02:29:35.145940",
     "exception": false,
     "start_time": "2023-07-03T02:29:35.115443",
     "status": "completed"
    },
    "tags": []
   },
   "outputs": [],
   "source": [
    "def plot_time_series(timesteps, values, format=\".\", start=0, end=None, label=None):\n",
    "\n",
    "    plt.plot(timesteps[start:end], values[start:end], format, label=label)\n",
    "    plt.xlabel(\"Time\")\n",
    "    plt.ylabel(\"Bitcoin Price\")\n",
    "    if label:\n",
    "        plt.legend(fontsize=15)\n",
    "    plt.grid(True)"
   ]
  },
  {
   "cell_type": "code",
   "execution_count": 8,
   "id": "bd0ecac9",
   "metadata": {
    "execution": {
     "iopub.execute_input": "2023-07-03T02:29:35.760612Z",
     "iopub.status.busy": "2023-07-03T02:29:35.760295Z",
     "iopub.status.idle": "2023-07-03T02:29:35.765565Z",
     "shell.execute_reply": "2023-07-03T02:29:35.764603Z"
    },
    "papermill": {
     "duration": 0.031639,
     "end_time": "2023-07-03T02:29:35.767635",
     "exception": false,
     "start_time": "2023-07-03T02:29:35.735996",
     "status": "completed"
    },
    "tags": []
   },
   "outputs": [],
   "source": [
    "def mean_absolute_scaled_error(y_true, y_pred):\n",
    "    mae = tf.reduce_mean(tf.abs(y_true-y_pred))\n",
    "    mae_naive_no_season = tf.reduce_mean(tf.abs(y_true[1:]-y_true[:-1]))\n",
    "    return mae / mae_naive_no_season"
   ]
  },
  {
   "cell_type": "code",
   "execution_count": 9,
   "id": "f218a115",
   "metadata": {
    "execution": {
     "iopub.execute_input": "2023-07-03T02:29:35.816962Z",
     "iopub.status.busy": "2023-07-03T02:29:35.816165Z",
     "iopub.status.idle": "2023-07-03T02:29:35.824860Z",
     "shell.execute_reply": "2023-07-03T02:29:35.823891Z"
    },
    "papermill": {
     "duration": 0.035467,
     "end_time": "2023-07-03T02:29:35.826953",
     "exception": false,
     "start_time": "2023-07-03T02:29:35.791486",
     "status": "completed"
    },
    "tags": []
   },
   "outputs": [],
   "source": [
    "def evaluate_preds(y_true, y_pred):\n",
    "    y_true = tf.cast(y_true, dtype=tf.float32)\n",
    "    y_pred = tf.cast(y_pred, dtype=tf.float32)\n",
    "    \n",
    "    mae = tf.keras.metrics.mean_absolute_error(y_true, y_pred)\n",
    "    mse = tf.keras.metrics.mean_squared_error(y_true, y_pred)\n",
    "    rmse = tf.sqrt(mse)\n",
    "    mape = tf.keras.metrics.mean_absolute_percentage_error(y_true, y_pred)\n",
    "    mase = mean_absolute_scaled_error(y_true, y_pred)\n",
    "    \n",
    "    if mae.ndim > 0:\n",
    "        mae = tf.reduce_mean(mae)\n",
    "        mse = tf.reduce_mean(mse)\n",
    "        rmse = tf.reduce_mean(rmse)\n",
    "        mape = tf.reduce_mean(mape)\n",
    "        mase = tf.reduce_mean(mase)\n",
    "    \n",
    "    return {\"mae\": mae.numpy(),\n",
    "            \"mse\": mse.numpy(),\n",
    "            \"rmse\": rmse.numpy(),\n",
    "            \"mape\": mape.numpy(),\n",
    "            \"mase\": mase.numpy()}"
   ]
  },
  {
   "cell_type": "code",
   "execution_count": 10,
   "id": "9357cc7e",
   "metadata": {
    "execution": {
     "iopub.execute_input": "2023-07-03T02:29:40.293135Z",
     "iopub.status.busy": "2023-07-03T02:29:40.292858Z",
     "iopub.status.idle": "2023-07-03T02:29:40.297305Z",
     "shell.execute_reply": "2023-07-03T02:29:40.296193Z"
    },
    "papermill": {
     "duration": 0.030937,
     "end_time": "2023-07-03T02:29:40.299863",
     "exception": false,
     "start_time": "2023-07-03T02:29:40.268926",
     "status": "completed"
    },
    "tags": []
   },
   "outputs": [],
   "source": [
    "HORIZON = 1\n",
    "WINDOW_SIZE = 7"
   ]
  },
  {
   "cell_type": "code",
   "execution_count": 11,
   "id": "7012178c",
   "metadata": {
    "execution": {
     "iopub.execute_input": "2023-07-03T02:29:40.352398Z",
     "iopub.status.busy": "2023-07-03T02:29:40.352120Z",
     "iopub.status.idle": "2023-07-03T02:29:40.357051Z",
     "shell.execute_reply": "2023-07-03T02:29:40.356082Z"
    },
    "papermill": {
     "duration": 0.030651,
     "end_time": "2023-07-03T02:29:40.359020",
     "exception": false,
     "start_time": "2023-07-03T02:29:40.328369",
     "status": "completed"
    },
    "tags": []
   },
   "outputs": [],
   "source": [
    "def get_labelled_windows(x, horizon=HORIZON):\n",
    "    return x[:, :-horizon], x[:, -horizon:]"
   ]
  },
  {
   "cell_type": "code",
   "execution_count": 12,
   "id": "68c6b5fe",
   "metadata": {
    "execution": {
     "iopub.execute_input": "2023-07-03T02:29:40.407644Z",
     "iopub.status.busy": "2023-07-03T02:29:40.406881Z",
     "iopub.status.idle": "2023-07-03T02:29:40.428325Z",
     "shell.execute_reply": "2023-07-03T02:29:40.427037Z"
    },
    "papermill": {
     "duration": 0.046935,
     "end_time": "2023-07-03T02:29:40.430556",
     "exception": false,
     "start_time": "2023-07-03T02:29:40.383621",
     "status": "completed"
    },
    "tags": []
   },
   "outputs": [
    {
     "name": "stdout",
     "output_type": "stream",
     "text": [
      "Window: [0 1 2 3 4 5 6] -> Label: 7\n"
     ]
    },
    {
     "name": "stderr",
     "output_type": "stream",
     "text": [
      "2023-10-05 20:29:14.396707: I tensorflow/compiler/xla/stream_executor/cuda/cuda_gpu_executor.cc:995] successful NUMA node read from SysFS had negative value (-1), but there must be at least one NUMA node, so returning NUMA node zero. See more at https://github.com/torvalds/linux/blob/v6.0/Documentation/ABI/testing/sysfs-bus-pci#L344-L355\n",
      "2023-10-05 20:29:14.430638: I tensorflow/compiler/xla/stream_executor/cuda/cuda_gpu_executor.cc:995] successful NUMA node read from SysFS had negative value (-1), but there must be at least one NUMA node, so returning NUMA node zero. See more at https://github.com/torvalds/linux/blob/v6.0/Documentation/ABI/testing/sysfs-bus-pci#L344-L355\n",
      "2023-10-05 20:29:14.430901: I tensorflow/compiler/xla/stream_executor/cuda/cuda_gpu_executor.cc:995] successful NUMA node read from SysFS had negative value (-1), but there must be at least one NUMA node, so returning NUMA node zero. See more at https://github.com/torvalds/linux/blob/v6.0/Documentation/ABI/testing/sysfs-bus-pci#L344-L355\n",
      "2023-10-05 20:29:14.432044: I tensorflow/compiler/xla/stream_executor/cuda/cuda_gpu_executor.cc:995] successful NUMA node read from SysFS had negative value (-1), but there must be at least one NUMA node, so returning NUMA node zero. See more at https://github.com/torvalds/linux/blob/v6.0/Documentation/ABI/testing/sysfs-bus-pci#L344-L355\n",
      "2023-10-05 20:29:14.432268: I tensorflow/compiler/xla/stream_executor/cuda/cuda_gpu_executor.cc:995] successful NUMA node read from SysFS had negative value (-1), but there must be at least one NUMA node, so returning NUMA node zero. See more at https://github.com/torvalds/linux/blob/v6.0/Documentation/ABI/testing/sysfs-bus-pci#L344-L355\n",
      "2023-10-05 20:29:14.432417: I tensorflow/compiler/xla/stream_executor/cuda/cuda_gpu_executor.cc:995] successful NUMA node read from SysFS had negative value (-1), but there must be at least one NUMA node, so returning NUMA node zero. See more at https://github.com/torvalds/linux/blob/v6.0/Documentation/ABI/testing/sysfs-bus-pci#L344-L355\n",
      "2023-10-05 20:29:14.510964: I tensorflow/compiler/xla/stream_executor/cuda/cuda_gpu_executor.cc:995] successful NUMA node read from SysFS had negative value (-1), but there must be at least one NUMA node, so returning NUMA node zero. See more at https://github.com/torvalds/linux/blob/v6.0/Documentation/ABI/testing/sysfs-bus-pci#L344-L355\n",
      "2023-10-05 20:29:14.511166: I tensorflow/compiler/xla/stream_executor/cuda/cuda_gpu_executor.cc:995] successful NUMA node read from SysFS had negative value (-1), but there must be at least one NUMA node, so returning NUMA node zero. See more at https://github.com/torvalds/linux/blob/v6.0/Documentation/ABI/testing/sysfs-bus-pci#L344-L355\n",
      "2023-10-05 20:29:14.511285: I tensorflow/compiler/xla/stream_executor/cuda/cuda_gpu_executor.cc:995] successful NUMA node read from SysFS had negative value (-1), but there must be at least one NUMA node, so returning NUMA node zero. See more at https://github.com/torvalds/linux/blob/v6.0/Documentation/ABI/testing/sysfs-bus-pci#L344-L355\n",
      "2023-10-05 20:29:14.511382: I tensorflow/core/common_runtime/gpu/gpu_device.cc:1639] Created device /job:localhost/replica:0/task:0/device:GPU:0 with 2800 MB memory:  -> device: 0, name: NVIDIA GeForce GTX 1650, pci bus id: 0000:01:00.0, compute capability: 7.5\n"
     ]
    }
   ],
   "source": [
    "test_window, test_label = get_labelled_windows(tf.expand_dims(tf.range(8), axis=0))"
   ]
  },
  {
   "cell_type": "code",
   "execution_count": 13,
   "id": "c8a852de",
   "metadata": {
    "execution": {
     "iopub.execute_input": "2023-07-03T02:29:40.569453Z",
     "iopub.status.busy": "2023-07-03T02:29:40.569116Z",
     "iopub.status.idle": "2023-07-03T02:29:40.575554Z",
     "shell.execute_reply": "2023-07-03T02:29:40.574537Z"
    },
    "papermill": {
     "duration": 0.033896,
     "end_time": "2023-07-03T02:29:40.577658",
     "exception": false,
     "start_time": "2023-07-03T02:29:40.543762",
     "status": "completed"
    },
    "tags": []
   },
   "outputs": [],
   "source": [
    "def make_windows(x, window_size=WINDOW_SIZE, horizon=HORIZON):\n",
    "\n",
    "    window_step = np.expand_dims(np.arange(window_size+horizon), axis=0)\n",
    "\n",
    "    window_indexes = window_step + np.expand_dims(np.arange(len(x)-(window_size+horizon-1)), axis=0).T\n",
    "    windowed_array = x[window_indexes]\n",
    "\n",
    "    windows, labels = get_labelled_windows(windowed_array, horizon=horizon)\n",
    "    return windows, labels"
   ]
  },
  {
   "cell_type": "code",
   "execution_count": 14,
   "id": "94b569fd",
   "metadata": {
    "execution": {
     "iopub.execute_input": "2023-07-03T02:29:40.624101Z",
     "iopub.status.busy": "2023-07-03T02:29:40.623341Z",
     "iopub.status.idle": "2023-07-03T02:29:40.631582Z",
     "shell.execute_reply": "2023-07-03T02:29:40.630683Z"
    },
    "papermill": {
     "duration": 0.03399,
     "end_time": "2023-07-03T02:29:40.633809",
     "exception": false,
     "start_time": "2023-07-03T02:29:40.599819",
     "status": "completed"
    },
    "tags": []
   },
   "outputs": [
    {
     "data": {
      "text/plain": [
       "(3299, 3299)"
      ]
     },
     "execution_count": 14,
     "metadata": {},
     "output_type": "execute_result"
    }
   ],
   "source": [
    "full_windows, full_labels = make_windows(prices, window_size=WINDOW_SIZE, horizon=HORIZON)"
   ]
  },
  {
   "cell_type": "code",
   "execution_count": 16,
   "id": "2bd40b64",
   "metadata": {
    "execution": {
     "iopub.execute_input": "2023-07-03T02:29:40.737441Z",
     "iopub.status.busy": "2023-07-03T02:29:40.736714Z",
     "iopub.status.idle": "2023-07-03T02:29:40.742473Z",
     "shell.execute_reply": "2023-07-03T02:29:40.741617Z"
    },
    "papermill": {
     "duration": 0.031715,
     "end_time": "2023-07-03T02:29:40.744492",
     "exception": false,
     "start_time": "2023-07-03T02:29:40.712777",
     "status": "completed"
    },
    "tags": []
   },
   "outputs": [],
   "source": [
    "def make_train_test_splits(windows, labels, test_split=0.2):\n",
    "    split_size = int(len(windows) * (1-test_split))\n",
    "    train_windows = windows[:split_size]\n",
    "    train_labels = labels[:split_size]\n",
    "    test_windows = windows[split_size:]\n",
    "    test_labels = labels[split_size:]\n",
    "    return train_windows, test_windows, train_labels, test_labels"
   ]
  },
  {
   "cell_type": "code",
   "execution_count": 17,
   "id": "df30bced",
   "metadata": {
    "execution": {
     "iopub.execute_input": "2023-07-03T02:29:40.792566Z",
     "iopub.status.busy": "2023-07-03T02:29:40.791844Z",
     "iopub.status.idle": "2023-07-03T02:29:40.798755Z",
     "shell.execute_reply": "2023-07-03T02:29:40.797775Z"
    },
    "papermill": {
     "duration": 0.033486,
     "end_time": "2023-07-03T02:29:40.800793",
     "exception": false,
     "start_time": "2023-07-03T02:29:40.767307",
     "status": "completed"
    },
    "tags": []
   },
   "outputs": [
    {
     "data": {
      "text/plain": [
       "(2639, 660, 2639, 660)"
      ]
     },
     "execution_count": 17,
     "metadata": {},
     "output_type": "execute_result"
    }
   ],
   "source": [
    "train_windows, test_windows, train_labels, test_labels = make_train_test_splits(full_windows, full_labels)"
   ]
  },
  {
   "cell_type": "code",
   "execution_count": 19,
   "id": "07c0914d",
   "metadata": {
    "execution": {
     "iopub.execute_input": "2023-07-03T02:29:40.953784Z",
     "iopub.status.busy": "2023-07-03T02:29:40.953046Z",
     "iopub.status.idle": "2023-07-03T02:29:40.958464Z",
     "shell.execute_reply": "2023-07-03T02:29:40.957661Z"
    },
    "papermill": {
     "duration": 0.031099,
     "end_time": "2023-07-03T02:29:40.960428",
     "exception": false,
     "start_time": "2023-07-03T02:29:40.929329",
     "status": "completed"
    },
    "tags": []
   },
   "outputs": [],
   "source": [
    "import os\n",
    "\n",
    "def create_model_checkpoint(model_name, save_path=\"model_experiments\"):\n",
    "    return tf.keras.callbacks.ModelCheckpoint(filepath=os.path.join(save_path, model_name),\n",
    "                                              monitor=\"val_loss\",\n",
    "                                              verbose=0,\n",
    "                                              save_best_only=True)"
   ]
  },
  {
   "cell_type": "code",
   "execution_count": 20,
   "id": "317dae77",
   "metadata": {
    "execution": {
     "iopub.execute_input": "2023-07-03T02:30:23.541058Z",
     "iopub.status.busy": "2023-07-03T02:30:23.540747Z",
     "iopub.status.idle": "2023-07-03T02:30:23.545391Z",
     "shell.execute_reply": "2023-07-03T02:30:23.544472Z"
    },
    "papermill": {
     "duration": 0.033773,
     "end_time": "2023-07-03T02:30:23.547411",
     "exception": false,
     "start_time": "2023-07-03T02:30:23.513638",
     "status": "completed"
    },
    "tags": []
   },
   "outputs": [],
   "source": [
    "def make_preds(model, input_data):\n",
    "    forecast = model.predict(input_data)\n",
    "    return tf.squeeze(forecast)"
   ]
  },
  {
   "cell_type": "markdown",
   "id": "b4b35c8f",
   "metadata": {
    "papermill": {
     "duration": 0.025916,
     "end_time": "2023-07-03T02:30:24.719571",
     "exception": false,
     "start_time": "2023-07-03T02:30:24.693655",
     "status": "completed"
    },
    "tags": []
   },
   "source": [
    "# LSTM Model\n"
   ]
  },
  {
   "cell_type": "code",
   "execution_count": 21,
   "id": "f2997369",
   "metadata": {
    "execution": {
     "iopub.execute_input": "2023-07-03T02:30:24.773140Z",
     "iopub.status.busy": "2023-07-03T02:30:24.772467Z",
     "iopub.status.idle": "2023-07-03T02:31:48.786631Z",
     "shell.execute_reply": "2023-07-03T02:31:48.785719Z"
    },
    "papermill": {
     "duration": 84.066919,
     "end_time": "2023-07-03T02:31:48.812320",
     "exception": false,
     "start_time": "2023-07-03T02:30:24.745401",
     "status": "completed"
    },
    "tags": []
   },
   "outputs": [
    {
     "name": "stdout",
     "output_type": "stream",
     "text": [
      "WARNING:tensorflow:Layer lstm will not use cuDNN kernels since it doesn't meet the criteria. It will use a generic GPU kernel as fallback when running on GPU.\n"
     ]
    },
    {
     "name": "stdout",
     "output_type": "stream",
     "text": [
      "INFO:tensorflow:Assets written to: model_experiments/lstm_model_saved/assets\n"
     ]
    },
    {
     "name": "stderr",
     "output_type": "stream",
     "text": [
      "INFO:tensorflow:Assets written to: model_experiments/lstm_model_saved/assets\n"
     ]
    },
    {
     "name": "stdout",
     "output_type": "stream",
     "text": [
      "INFO:tensorflow:Assets written to: model_experiments/lstm_model_saved/assets\n"
     ]
    },
    {
     "name": "stderr",
     "output_type": "stream",
     "text": [
      "INFO:tensorflow:Assets written to: model_experiments/lstm_model_saved/assets\n"
     ]
    },
    {
     "name": "stdout",
     "output_type": "stream",
     "text": [
      "INFO:tensorflow:Assets written to: model_experiments/lstm_model_saved/assets\n"
     ]
    },
    {
     "name": "stderr",
     "output_type": "stream",
     "text": [
      "INFO:tensorflow:Assets written to: model_experiments/lstm_model_saved/assets\n"
     ]
    },
    {
     "name": "stdout",
     "output_type": "stream",
     "text": [
      "INFO:tensorflow:Assets written to: model_experiments/lstm_model_saved/assets\n"
     ]
    },
    {
     "name": "stderr",
     "output_type": "stream",
     "text": [
      "INFO:tensorflow:Assets written to: model_experiments/lstm_model_saved/assets\n"
     ]
    },
    {
     "name": "stdout",
     "output_type": "stream",
     "text": [
      "INFO:tensorflow:Assets written to: model_experiments/lstm_model_saved/assets\n"
     ]
    },
    {
     "name": "stderr",
     "output_type": "stream",
     "text": [
      "INFO:tensorflow:Assets written to: model_experiments/lstm_model_saved/assets\n"
     ]
    },
    {
     "name": "stdout",
     "output_type": "stream",
     "text": [
      "INFO:tensorflow:Assets written to: model_experiments/lstm_model_saved/assets\n"
     ]
    },
    {
     "name": "stderr",
     "output_type": "stream",
     "text": [
      "INFO:tensorflow:Assets written to: model_experiments/lstm_model_saved/assets\n"
     ]
    },
    {
     "name": "stdout",
     "output_type": "stream",
     "text": [
      "INFO:tensorflow:Assets written to: model_experiments/lstm_model_saved/assets\n"
     ]
    },
    {
     "name": "stderr",
     "output_type": "stream",
     "text": [
      "INFO:tensorflow:Assets written to: model_experiments/lstm_model_saved/assets\n"
     ]
    },
    {
     "name": "stdout",
     "output_type": "stream",
     "text": [
      "INFO:tensorflow:Assets written to: model_experiments/lstm_model_saved/assets\n"
     ]
    },
    {
     "name": "stderr",
     "output_type": "stream",
     "text": [
      "INFO:tensorflow:Assets written to: model_experiments/lstm_model_saved/assets\n"
     ]
    },
    {
     "name": "stdout",
     "output_type": "stream",
     "text": [
      "INFO:tensorflow:Assets written to: model_experiments/lstm_model_saved/assets\n"
     ]
    },
    {
     "name": "stderr",
     "output_type": "stream",
     "text": [
      "INFO:tensorflow:Assets written to: model_experiments/lstm_model_saved/assets\n"
     ]
    },
    {
     "name": "stdout",
     "output_type": "stream",
     "text": [
      "INFO:tensorflow:Assets written to: model_experiments/lstm_model_saved/assets\n"
     ]
    },
    {
     "name": "stderr",
     "output_type": "stream",
     "text": [
      "INFO:tensorflow:Assets written to: model_experiments/lstm_model_saved/assets\n"
     ]
    },
    {
     "name": "stdout",
     "output_type": "stream",
     "text": [
      "INFO:tensorflow:Assets written to: model_experiments/lstm_model_saved/assets\n"
     ]
    },
    {
     "name": "stderr",
     "output_type": "stream",
     "text": [
      "INFO:tensorflow:Assets written to: model_experiments/lstm_model_saved/assets\n"
     ]
    },
    {
     "name": "stdout",
     "output_type": "stream",
     "text": [
      "INFO:tensorflow:Assets written to: model_experiments/lstm_model_saved/assets\n"
     ]
    },
    {
     "name": "stderr",
     "output_type": "stream",
     "text": [
      "INFO:tensorflow:Assets written to: model_experiments/lstm_model_saved/assets\n"
     ]
    },
    {
     "name": "stdout",
     "output_type": "stream",
     "text": [
      "INFO:tensorflow:Assets written to: model_experiments/lstm_model_saved/assets\n"
     ]
    },
    {
     "name": "stderr",
     "output_type": "stream",
     "text": [
      "INFO:tensorflow:Assets written to: model_experiments/lstm_model_saved/assets\n"
     ]
    },
    {
     "name": "stdout",
     "output_type": "stream",
     "text": [
      "INFO:tensorflow:Assets written to: model_experiments/lstm_model_saved/assets\n"
     ]
    },
    {
     "name": "stderr",
     "output_type": "stream",
     "text": [
      "INFO:tensorflow:Assets written to: model_experiments/lstm_model_saved/assets\n"
     ]
    },
    {
     "name": "stdout",
     "output_type": "stream",
     "text": [
      "INFO:tensorflow:Assets written to: model_experiments/lstm_model_saved/assets\n"
     ]
    },
    {
     "name": "stderr",
     "output_type": "stream",
     "text": [
      "INFO:tensorflow:Assets written to: model_experiments/lstm_model_saved/assets\n"
     ]
    },
    {
     "name": "stdout",
     "output_type": "stream",
     "text": [
      "INFO:tensorflow:Assets written to: model_experiments/lstm_model_saved/assets\n"
     ]
    },
    {
     "name": "stderr",
     "output_type": "stream",
     "text": [
      "INFO:tensorflow:Assets written to: model_experiments/lstm_model_saved/assets\n"
     ]
    },
    {
     "name": "stdout",
     "output_type": "stream",
     "text": [
      "INFO:tensorflow:Assets written to: model_experiments/lstm_model_saved/assets\n"
     ]
    },
    {
     "name": "stderr",
     "output_type": "stream",
     "text": [
      "INFO:tensorflow:Assets written to: model_experiments/lstm_model_saved/assets\n"
     ]
    },
    {
     "name": "stdout",
     "output_type": "stream",
     "text": [
      "INFO:tensorflow:Assets written to: model_experiments/lstm_model_saved/assets\n"
     ]
    },
    {
     "name": "stderr",
     "output_type": "stream",
     "text": [
      "INFO:tensorflow:Assets written to: model_experiments/lstm_model_saved/assets\n"
     ]
    },
    {
     "name": "stdout",
     "output_type": "stream",
     "text": [
      "INFO:tensorflow:Assets written to: model_experiments/lstm_model_saved/assets\n"
     ]
    },
    {
     "name": "stderr",
     "output_type": "stream",
     "text": [
      "INFO:tensorflow:Assets written to: model_experiments/lstm_model_saved/assets\n"
     ]
    },
    {
     "name": "stdout",
     "output_type": "stream",
     "text": [
      "INFO:tensorflow:Assets written to: model_experiments/lstm_model_saved/assets\n"
     ]
    },
    {
     "name": "stderr",
     "output_type": "stream",
     "text": [
      "INFO:tensorflow:Assets written to: model_experiments/lstm_model_saved/assets\n"
     ]
    },
    {
     "name": "stdout",
     "output_type": "stream",
     "text": [
      "INFO:tensorflow:Assets written to: model_experiments/lstm_model_saved/assets\n"
     ]
    },
    {
     "name": "stderr",
     "output_type": "stream",
     "text": [
      "INFO:tensorflow:Assets written to: model_experiments/lstm_model_saved/assets\n"
     ]
    },
    {
     "name": "stdout",
     "output_type": "stream",
     "text": [
      "INFO:tensorflow:Assets written to: model_experiments/lstm_model_saved/assets\n"
     ]
    },
    {
     "name": "stderr",
     "output_type": "stream",
     "text": [
      "INFO:tensorflow:Assets written to: model_experiments/lstm_model_saved/assets\n"
     ]
    },
    {
     "name": "stdout",
     "output_type": "stream",
     "text": [
      "INFO:tensorflow:Assets written to: model_experiments/lstm_model_saved/assets\n"
     ]
    },
    {
     "name": "stderr",
     "output_type": "stream",
     "text": [
      "INFO:tensorflow:Assets written to: model_experiments/lstm_model_saved/assets\n"
     ]
    },
    {
     "name": "stdout",
     "output_type": "stream",
     "text": [
      "INFO:tensorflow:Assets written to: model_experiments/lstm_model_saved/assets\n"
     ]
    },
    {
     "name": "stderr",
     "output_type": "stream",
     "text": [
      "INFO:tensorflow:Assets written to: model_experiments/lstm_model_saved/assets\n"
     ]
    },
    {
     "name": "stdout",
     "output_type": "stream",
     "text": [
      "INFO:tensorflow:Assets written to: model_experiments/lstm_model_saved/assets\n"
     ]
    },
    {
     "name": "stderr",
     "output_type": "stream",
     "text": [
      "INFO:tensorflow:Assets written to: model_experiments/lstm_model_saved/assets\n"
     ]
    },
    {
     "name": "stdout",
     "output_type": "stream",
     "text": [
      "INFO:tensorflow:Assets written to: model_experiments/lstm_model_saved/assets\n"
     ]
    },
    {
     "name": "stderr",
     "output_type": "stream",
     "text": [
      "INFO:tensorflow:Assets written to: model_experiments/lstm_model_saved/assets\n"
     ]
    },
    {
     "name": "stdout",
     "output_type": "stream",
     "text": [
      "INFO:tensorflow:Assets written to: model_experiments/lstm_model_saved/assets\n"
     ]
    },
    {
     "name": "stderr",
     "output_type": "stream",
     "text": [
      "INFO:tensorflow:Assets written to: model_experiments/lstm_model_saved/assets\n"
     ]
    },
    {
     "name": "stdout",
     "output_type": "stream",
     "text": [
      "INFO:tensorflow:Assets written to: model_experiments/lstm_model_saved/assets\n"
     ]
    },
    {
     "name": "stderr",
     "output_type": "stream",
     "text": [
      "INFO:tensorflow:Assets written to: model_experiments/lstm_model_saved/assets\n"
     ]
    },
    {
     "name": "stdout",
     "output_type": "stream",
     "text": [
      "INFO:tensorflow:Assets written to: model_experiments/lstm_model_saved/assets\n"
     ]
    },
    {
     "name": "stderr",
     "output_type": "stream",
     "text": [
      "INFO:tensorflow:Assets written to: model_experiments/lstm_model_saved/assets\n"
     ]
    },
    {
     "name": "stdout",
     "output_type": "stream",
     "text": [
      "INFO:tensorflow:Assets written to: model_experiments/lstm_model_saved/assets\n"
     ]
    },
    {
     "name": "stderr",
     "output_type": "stream",
     "text": [
      "INFO:tensorflow:Assets written to: model_experiments/lstm_model_saved/assets\n"
     ]
    },
    {
     "name": "stdout",
     "output_type": "stream",
     "text": [
      "INFO:tensorflow:Assets written to: model_experiments/lstm_model_saved/assets\n"
     ]
    },
    {
     "name": "stderr",
     "output_type": "stream",
     "text": [
      "INFO:tensorflow:Assets written to: model_experiments/lstm_model_saved/assets\n"
     ]
    },
    {
     "name": "stdout",
     "output_type": "stream",
     "text": [
      "INFO:tensorflow:Assets written to: model_experiments/lstm_model_saved/assets\n"
     ]
    },
    {
     "name": "stderr",
     "output_type": "stream",
     "text": [
      "INFO:tensorflow:Assets written to: model_experiments/lstm_model_saved/assets\n"
     ]
    },
    {
     "name": "stdout",
     "output_type": "stream",
     "text": [
      "INFO:tensorflow:Assets written to: model_experiments/lstm_model_saved/assets\n"
     ]
    },
    {
     "name": "stderr",
     "output_type": "stream",
     "text": [
      "INFO:tensorflow:Assets written to: model_experiments/lstm_model_saved/assets\n"
     ]
    },
    {
     "name": "stdout",
     "output_type": "stream",
     "text": [
      "INFO:tensorflow:Assets written to: model_experiments/lstm_model_saved/assets\n"
     ]
    },
    {
     "name": "stderr",
     "output_type": "stream",
     "text": [
      "INFO:tensorflow:Assets written to: model_experiments/lstm_model_saved/assets\n"
     ]
    },
    {
     "name": "stdout",
     "output_type": "stream",
     "text": [
      "INFO:tensorflow:Assets written to: model_experiments/lstm_model_saved/assets\n"
     ]
    },
    {
     "name": "stderr",
     "output_type": "stream",
     "text": [
      "INFO:tensorflow:Assets written to: model_experiments/lstm_model_saved/assets\n"
     ]
    },
    {
     "data": {
      "text/plain": [
       "<keras.src.callbacks.History at 0x7f5537f0e770>"
      ]
     },
     "execution_count": 21,
     "metadata": {},
     "output_type": "execute_result"
    }
   ],
   "source": [
    "from tensorflow.keras import layers\n",
    "\n",
    "HORIZON = 1\n",
    "WINDOW_SIZE = 7\n",
    "\n",
    "# Set seed\n",
    "tf.random.set_seed(42)\n",
    "\n",
    "\n",
    "# build an LSTM model with the functional API\n",
    "inputs = layers.Input(shape=(WINDOW_SIZE))\n",
    "x = layers.Lambda(lambda x: tf.expand_dims(x, axis=1))(inputs)\n",
    "x = layers.LSTM(128, activation=\"relu\")(x)\n",
    "output = layers.Dense(HORIZON)(x)\n",
    "lstm_model = tf.keras.Model(inputs=inputs, outputs=output, name=\"lstm_model_saved\")\n",
    "\n",
    "# Compile the model\n",
    "lstm_model.compile(loss=\"mae\",\n",
    "                   optimizer=tf.keras.optimizers.legacy.Adam())\n",
    "\n",
    "# Fit the model\n",
    "lstm_model.fit(train_windows,\n",
    "              train_labels,\n",
    "              epochs=100,\n",
    "              verbose=0,\n",
    "              batch_size=128,\n",
    "              validation_data=(test_windows, test_labels),\n",
    "              callbacks=[create_model_checkpoint(model_name=lstm_model.name)])"
   ]
  },
  {
   "cell_type": "code",
   "execution_count": 22,
   "id": "9089a55a",
   "metadata": {
    "execution": {
     "iopub.execute_input": "2023-07-03T02:31:48.866755Z",
     "iopub.status.busy": "2023-07-03T02:31:48.865075Z",
     "iopub.status.idle": "2023-07-03T02:31:49.847787Z",
     "shell.execute_reply": "2023-07-03T02:31:49.846797Z"
    },
    "papermill": {
     "duration": 1.011601,
     "end_time": "2023-07-03T02:31:49.849902",
     "exception": false,
     "start_time": "2023-07-03T02:31:48.838301",
     "status": "completed"
    },
    "tags": []
   },
   "outputs": [
    {
     "name": "stdout",
     "output_type": "stream",
     "text": [
      "WARNING:tensorflow:Layer lstm will not use cuDNN kernels since it doesn't meet the criteria. It will use a generic GPU kernel as fallback when running on GPU.\n"
     ]
    },
    {
     "name": "stderr",
     "output_type": "stream",
     "text": [
      "WARNING:tensorflow:Layer lstm will not use cuDNN kernels since it doesn't meet the criteria. It will use a generic GPU kernel as fallback when running on GPU.\n"
     ]
    },
    {
     "name": "stdout",
     "output_type": "stream",
     "text": [
      "21/21 [==============================] - 0s 1ms/step - loss: 612.7951\n"
     ]
    },
    {
     "data": {
      "text/plain": [
       "612.7951049804688"
      ]
     },
     "execution_count": 22,
     "metadata": {},
     "output_type": "execute_result"
    }
   ],
   "source": [
    "lstm_model = tf.keras.models.load_model(\"model_experiments/lstm_model_saved\")\n",
    "lstm_model.evaluate(test_windows, test_labels)"
   ]
  },
  {
   "cell_type": "code",
   "execution_count": 23,
   "id": "eabc4e9a",
   "metadata": {
    "execution": {
     "iopub.execute_input": "2023-07-03T02:31:49.907224Z",
     "iopub.status.busy": "2023-07-03T02:31:49.906870Z",
     "iopub.status.idle": "2023-07-03T02:31:50.187636Z",
     "shell.execute_reply": "2023-07-03T02:31:50.186597Z"
    },
    "papermill": {
     "duration": 0.31227,
     "end_time": "2023-07-03T02:31:50.190032",
     "exception": false,
     "start_time": "2023-07-03T02:31:49.877762",
     "status": "completed"
    },
    "tags": []
   },
   "outputs": [
    {
     "name": "stdout",
     "output_type": "stream",
     "text": [
      "21/21 [==============================] - 0s 1ms/step\n"
     ]
    },
    {
     "data": {
      "text/plain": [
       "<tf.Tensor: shape=(5,), dtype=float32, numpy=\n",
       "array([47050.42 , 48224.254, 47773.72 , 46659.223, 46717.246],\n",
       "      dtype=float32)>"
      ]
     },
     "execution_count": 23,
     "metadata": {},
     "output_type": "execute_result"
    }
   ],
   "source": [
    "lstm_model_preds = make_preds(lstm_model, test_windows)\n",
    "lstm_model_preds[:5]"
   ]
  },
  {
   "cell_type": "code",
   "execution_count": 24,
   "id": "52dcfbef",
   "metadata": {
    "execution": {
     "iopub.execute_input": "2023-07-03T02:31:50.248043Z",
     "iopub.status.busy": "2023-07-03T02:31:50.247704Z",
     "iopub.status.idle": "2023-07-03T02:31:50.268411Z",
     "shell.execute_reply": "2023-07-03T02:31:50.267357Z"
    },
    "papermill": {
     "duration": 0.05119,
     "end_time": "2023-07-03T02:31:50.270658",
     "exception": false,
     "start_time": "2023-07-03T02:31:50.219468",
     "status": "completed"
    },
    "tags": []
   },
   "outputs": [
    {
     "data": {
      "text/plain": [
       "{'mae': 612.7953,\n",
       " 'mse': 888674.06,\n",
       " 'rmse': 942.69507,\n",
       " 'mape': 2.1496265,\n",
       " 'mase': 1.1165595}"
      ]
     },
     "execution_count": 24,
     "metadata": {},
     "output_type": "execute_result"
    }
   ],
   "source": [
    "lstm_model_results = evaluate_preds(y_true=tf.squeeze(test_labels),\n",
    "                                    y_pred=lstm_model_preds)\n",
    "lstm_model_results"
   ]
  },
  {
   "cell_type": "code",
   "execution_count": 25,
   "id": "74907841",
   "metadata": {
    "execution": {
     "iopub.execute_input": "2023-07-03T02:31:50.327078Z",
     "iopub.status.busy": "2023-07-03T02:31:50.326262Z",
     "iopub.status.idle": "2023-07-03T02:31:51.246773Z",
     "shell.execute_reply": "2023-07-03T02:31:51.245719Z"
    },
    "papermill": {
     "duration": 0.951359,
     "end_time": "2023-07-03T02:31:51.249311",
     "exception": false,
     "start_time": "2023-07-03T02:31:50.297952",
     "status": "completed"
    },
    "tags": []
   },
   "outputs": [
    {
     "data": {
      "image/png": "[encoded data removed]",
      "text/plain": [
       "<Figure size 1000x700 with 1 Axes>"
      ]
     },
     "metadata": {},
     "output_type": "display_data"
    }
   ],
   "source": [
    "offset = 100\n",
    "plt.figure(figsize=(10, 7))\n",
    "\n",
    "plot_time_series(timesteps=X_test[-len(test_windows):],\n",
    "                      values=test_labels[:, 0],\n",
    "                      start=offset,\n",
    "                      label=\"Test Data\")\n",
    "\n",
    "plot_time_series(timesteps=X_test[-len(test_windows):],\n",
    "                      values=lstm_model_preds,\n",
    "                      start=offset,\n",
    "                      format=\"-\",\n",
    "                      label=\"lstm_model_preds\")\n"
   ]
  }
 ],
 "metadata": {
  "kernelspec": {
   "display_name": "Python 3",
   "language": "python",
   "name": "python3"
  },
  "language_info": {
   "codemirror_mode": {
    "name": "ipython",
    "version": 3
   },
   "file_extension": ".py",
   "mimetype": "text/x-python",
   "name": "python",
   "nbconvert_exporter": "python",
   "pygments_lexer": "ipython3",
   "version": "3.10.10"
  },
  "papermill": {
   "default_parameters": {},
   "duration": 182.977127,
   "end_time": "2023-07-03T02:32:01.593486",
   "environment_variables": {},
   "exception": null,
   "input_path": "__notebook__.ipynb",
   "output_path": "__notebook__.ipynb",
   "parameters": {},
   "start_time": "2023-07-03T02:28:58.616359",
   "version": "2.4.0"
  }
 },
 "nbformat": 4,
 "nbformat_minor": 5
}
